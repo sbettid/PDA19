{
 "cells": [
  {
   "cell_type": "markdown",
   "metadata": {},
   "source": [
    "Student: Davide Sbetti - 14032"
   ]
  },
  {
   "cell_type": "markdown",
   "metadata": {},
   "source": [
    "# Graphlab - Factorized and side information"
   ]
  },
  {
   "cell_type": "markdown",
   "metadata": {},
   "source": [
    "First, let's import the graphlab library and pandas, used to export the final predictions"
   ]
  },
  {
   "cell_type": "code",
   "execution_count": 2,
   "metadata": {},
   "outputs": [],
   "source": [
    "import graphlab as gl\n",
    "import pandas as pd"
   ]
  },
  {
   "cell_type": "markdown",
   "metadata": {},
   "source": [
    "We now read the movie dataset, using graphlab provided functions to avoid later conversions between different type of objects"
   ]
  },
  {
   "cell_type": "code",
   "execution_count": 3,
   "metadata": {},
   "outputs": [
    {
     "name": "stdout",
     "output_type": "stream",
     "text": [
      "This non-commercial license of GraphLab Create for academic use is assigned to dsbetti@unibz.it and will expire on November 20, 2020.\n"
     ]
    },
    {
     "name": "stderr",
     "output_type": "stream",
     "text": [
      "[INFO] graphlab.cython.cy_server: GraphLab Create v2.1 started. Logging: /tmp/graphlab_server_1575382308.log\n"
     ]
    },
    {
     "data": {
      "text/html": [
       "<pre>Finished parsing file /home/davide/unibz/Master/Programming for Data Analytics/Jupyter/Project/data/train-PDA2019.csv</pre>"
      ],
      "text/plain": [
       "Finished parsing file /home/davide/unibz/Master/Programming for Data Analytics/Jupyter/Project/data/train-PDA2019.csv"
      ]
     },
     "metadata": {},
     "output_type": "display_data"
    },
    {
     "data": {
      "text/html": [
       "<pre>Parsing completed. Parsed 100 lines in 0.322771 secs.</pre>"
      ],
      "text/plain": [
       "Parsing completed. Parsed 100 lines in 0.322771 secs."
      ]
     },
     "metadata": {},
     "output_type": "display_data"
    },
    {
     "name": "stdout",
     "output_type": "stream",
     "text": [
      "------------------------------------------------------\n",
      "Inferred types from first 100 line(s) of file as \n",
      "column_type_hints=[int,int,int,int]\n",
      "If parsing fails due to incorrect types, you can correct\n",
      "the inferred type list above and pass it to read_csv in\n",
      "the column_type_hints argument\n",
      "------------------------------------------------------\n"
     ]
    },
    {
     "data": {
      "text/html": [
       "<pre>Finished parsing file /home/davide/unibz/Master/Programming for Data Analytics/Jupyter/Project/data/train-PDA2019.csv</pre>"
      ],
      "text/plain": [
       "Finished parsing file /home/davide/unibz/Master/Programming for Data Analytics/Jupyter/Project/data/train-PDA2019.csv"
      ]
     },
     "metadata": {},
     "output_type": "display_data"
    },
    {
     "data": {
      "text/html": [
       "<pre>Parsing completed. Parsed 470711 lines in 0.33946 secs.</pre>"
      ],
      "text/plain": [
       "Parsing completed. Parsed 470711 lines in 0.33946 secs."
      ]
     },
     "metadata": {},
     "output_type": "display_data"
    },
    {
     "name": "stdout",
     "output_type": "stream",
     "text": [
      "+--------+--------+--------+-----------+\n",
      "| userID | itemID | rating | timeStamp |\n",
      "+--------+--------+--------+-----------+\n",
      "|   5    |  648   |   5    | 978297876 |\n",
      "|   5    |  1394  |   5    | 978298237 |\n",
      "|   5    |  3534  |   5    | 978297149 |\n",
      "|   5    |  104   |   4    | 978298558 |\n",
      "|   5    |  2735  |   5    | 978297919 |\n",
      "|   5    |  3868  |   3    | 978298561 |\n",
      "|   5    |  1079  |   5    | 978298384 |\n",
      "|   5    |  2997  |   3    | 978298214 |\n",
      "|   5    |  1615  |   5    | 978297755 |\n",
      "|   5    |  1291  |   4    | 978297692 |\n",
      "+--------+--------+--------+-----------+\n",
      "[10 rows x 4 columns]\n",
      "\n"
     ]
    }
   ],
   "source": [
    "movies = gl.SFrame.read_csv('data/train-PDA2019.csv')\n",
    "print(movies.head())"
   ]
  },
  {
   "cell_type": "markdown",
   "metadata": {},
   "source": [
    "We now read also the side information available in the content file, used to add more information to the training data that will be used to train the model"
   ]
  },
  {
   "cell_type": "code",
   "execution_count": 4,
   "metadata": {},
   "outputs": [
    {
     "data": {
      "text/html": [
       "<pre>Finished parsing file /home/davide/unibz/Master/Programming for Data Analytics/Jupyter/Project/data/content-PDA2019.csv</pre>"
      ],
      "text/plain": [
       "Finished parsing file /home/davide/unibz/Master/Programming for Data Analytics/Jupyter/Project/data/content-PDA2019.csv"
      ]
     },
     "metadata": {},
     "output_type": "display_data"
    },
    {
     "data": {
      "text/html": [
       "<pre>Parsing completed. Parsed 100 lines in 0.10816 secs.</pre>"
      ],
      "text/plain": [
       "Parsing completed. Parsed 100 lines in 0.10816 secs."
      ]
     },
     "metadata": {},
     "output_type": "display_data"
    },
    {
     "name": "stdout",
     "output_type": "stream",
     "text": [
      "------------------------------------------------------\n",
      "Inferred types from first 100 line(s) of file as \n",
      "column_type_hints=[int,float,float,float,float,float,float,float,str,str,int,list]\n",
      "If parsing fails due to incorrect types, you can correct\n",
      "the inferred type list above and pass it to read_csv in\n",
      "the column_type_hints argument\n",
      "------------------------------------------------------\n"
     ]
    },
    {
     "data": {
      "text/html": [
       "<pre>Unable to parse line \"3439,0.6972976540000001,0.5822279220000001,0.586085808,0.519217905,0.585836978,0.525068944,0.601454271,Teenage Mutant Ninja Turtles II: The Secret of the Ooze (1991),Action|Children|Fantasy,1991,\"['adapted from:comic', 'animation remade as live action', 'B...\"</pre>"
      ],
      "text/plain": [
       "Unable to parse line \"3439,0.6972976540000001,0.5822279220000001,0.586085808,0.519217905,0.585836978,0.525068944,0.601454271,Teenage Mutant Ninja Turtles II: The Secret of the Ooze (1991),Action|Children|Fantasy,1991,\"['adapted from:comic', 'animation remade as live action', 'B...\""
      ]
     },
     "metadata": {},
     "output_type": "display_data"
    },
    {
     "data": {
      "text/html": [
       "<pre>1 lines failed to parse correctly</pre>"
      ],
      "text/plain": [
       "1 lines failed to parse correctly"
      ]
     },
     "metadata": {},
     "output_type": "display_data"
    },
    {
     "data": {
      "text/html": [
       "<pre>Finished parsing file /home/davide/unibz/Master/Programming for Data Analytics/Jupyter/Project/data/content-PDA2019.csv</pre>"
      ],
      "text/plain": [
       "Finished parsing file /home/davide/unibz/Master/Programming for Data Analytics/Jupyter/Project/data/content-PDA2019.csv"
      ]
     },
     "metadata": {},
     "output_type": "display_data"
    },
    {
     "data": {
      "text/html": [
       "<pre>Parsing completed. Parsed 1831 lines in 0.110111 secs.</pre>"
      ],
      "text/plain": [
       "Parsing completed. Parsed 1831 lines in 0.110111 secs."
      ]
     },
     "metadata": {},
     "output_type": "display_data"
    }
   ],
   "source": [
    "movies_content = gl.SFrame.read_csv('data/content-PDA2019.csv')"
   ]
  },
  {
   "cell_type": "markdown",
   "metadata": {},
   "source": [
    "We now build the recommender system using the factorization recommender, passing also data related to the single movies, trying so to increase the precision of the predictions"
   ]
  },
  {
   "cell_type": "code",
   "execution_count": 6,
   "metadata": {},
   "outputs": [
    {
     "data": {
      "text/html": [
       "<pre>Recsys training: model = factorization_recommender</pre>"
      ],
      "text/plain": [
       "Recsys training: model = factorization_recommender"
      ]
     },
     "metadata": {},
     "output_type": "display_data"
    },
    {
     "data": {
      "text/html": [
       "<pre>Preparing data set.</pre>"
      ],
      "text/plain": [
       "Preparing data set."
      ]
     },
     "metadata": {},
     "output_type": "display_data"
    },
    {
     "data": {
      "text/html": [
       "<pre>    Data has 470711 observations with 5690 users and 1832 items.</pre>"
      ],
      "text/plain": [
       "    Data has 470711 observations with 5690 users and 1832 items."
      ]
     },
     "metadata": {},
     "output_type": "display_data"
    },
    {
     "data": {
      "text/html": [
       "<pre>    Data prepared in: 0.591215s</pre>"
      ],
      "text/plain": [
       "    Data prepared in: 0.591215s"
      ]
     },
     "metadata": {},
     "output_type": "display_data"
    },
    {
     "data": {
      "text/html": [
       "<pre>Training factorization_recommender for recommendations.</pre>"
      ],
      "text/plain": [
       "Training factorization_recommender for recommendations."
      ]
     },
     "metadata": {},
     "output_type": "display_data"
    },
    {
     "data": {
      "text/html": [
       "<pre>+--------------------------------+--------------------------------------------------+----------+</pre>"
      ],
      "text/plain": [
       "+--------------------------------+--------------------------------------------------+----------+"
      ]
     },
     "metadata": {},
     "output_type": "display_data"
    },
    {
     "data": {
      "text/html": [
       "<pre>| Parameter                      | Description                                      | Value    |</pre>"
      ],
      "text/plain": [
       "| Parameter                      | Description                                      | Value    |"
      ]
     },
     "metadata": {},
     "output_type": "display_data"
    },
    {
     "data": {
      "text/html": [
       "<pre>+--------------------------------+--------------------------------------------------+----------+</pre>"
      ],
      "text/plain": [
       "+--------------------------------+--------------------------------------------------+----------+"
      ]
     },
     "metadata": {},
     "output_type": "display_data"
    },
    {
     "data": {
      "text/html": [
       "<pre>| num_factors                    | Factor Dimension                                 | 8        |</pre>"
      ],
      "text/plain": [
       "| num_factors                    | Factor Dimension                                 | 8        |"
      ]
     },
     "metadata": {},
     "output_type": "display_data"
    },
    {
     "data": {
      "text/html": [
       "<pre>| regularization                 | L2 Regularization on Factors                     | 1e-08    |</pre>"
      ],
      "text/plain": [
       "| regularization                 | L2 Regularization on Factors                     | 1e-08    |"
      ]
     },
     "metadata": {},
     "output_type": "display_data"
    },
    {
     "data": {
      "text/html": [
       "<pre>| solver                         | Solver used for training                         | adagrad  |</pre>"
      ],
      "text/plain": [
       "| solver                         | Solver used for training                         | adagrad  |"
      ]
     },
     "metadata": {},
     "output_type": "display_data"
    },
    {
     "data": {
      "text/html": [
       "<pre>| linear_regularization          | L2 Regularization on Linear Coefficients         | 1e-10    |</pre>"
      ],
      "text/plain": [
       "| linear_regularization          | L2 Regularization on Linear Coefficients         | 1e-10    |"
      ]
     },
     "metadata": {},
     "output_type": "display_data"
    },
    {
     "data": {
      "text/html": [
       "<pre>| side_data_factorization        | Assign Factors for Side Data                     | True     |</pre>"
      ],
      "text/plain": [
       "| side_data_factorization        | Assign Factors for Side Data                     | True     |"
      ]
     },
     "metadata": {},
     "output_type": "display_data"
    },
    {
     "data": {
      "text/html": [
       "<pre>| max_iterations                 | Maximum Number of Iterations                     | 50       |</pre>"
      ],
      "text/plain": [
       "| max_iterations                 | Maximum Number of Iterations                     | 50       |"
      ]
     },
     "metadata": {},
     "output_type": "display_data"
    },
    {
     "data": {
      "text/html": [
       "<pre>+--------------------------------+--------------------------------------------------+----------+</pre>"
      ],
      "text/plain": [
       "+--------------------------------+--------------------------------------------------+----------+"
      ]
     },
     "metadata": {},
     "output_type": "display_data"
    },
    {
     "data": {
      "text/html": [
       "<pre>  Optimizing model using SGD; tuning step size.</pre>"
      ],
      "text/plain": [
       "  Optimizing model using SGD; tuning step size."
      ]
     },
     "metadata": {},
     "output_type": "display_data"
    },
    {
     "data": {
      "text/html": [
       "<pre>  Using 58838 / 470711 points for tuning the step size.</pre>"
      ],
      "text/plain": [
       "  Using 58838 / 470711 points for tuning the step size."
      ]
     },
     "metadata": {},
     "output_type": "display_data"
    },
    {
     "data": {
      "text/html": [
       "<pre>+---------+-------------------+------------------------------------------+</pre>"
      ],
      "text/plain": [
       "+---------+-------------------+------------------------------------------+"
      ]
     },
     "metadata": {},
     "output_type": "display_data"
    },
    {
     "data": {
      "text/html": [
       "<pre>| Attempt | Initial Step Size | Estimated Objective Value                |</pre>"
      ],
      "text/plain": [
       "| Attempt | Initial Step Size | Estimated Objective Value                |"
      ]
     },
     "metadata": {},
     "output_type": "display_data"
    },
    {
     "data": {
      "text/html": [
       "<pre>+---------+-------------------+------------------------------------------+</pre>"
      ],
      "text/plain": [
       "+---------+-------------------+------------------------------------------+"
      ]
     },
     "metadata": {},
     "output_type": "display_data"
    },
    {
     "data": {
      "text/html": [
       "<pre>| 0       | 3.57143           | Not Viable                               |</pre>"
      ],
      "text/plain": [
       "| 0       | 3.57143           | Not Viable                               |"
      ]
     },
     "metadata": {},
     "output_type": "display_data"
    },
    {
     "data": {
      "text/html": [
       "<pre>| 1       | 0.892857          | Not Viable                               |</pre>"
      ],
      "text/plain": [
       "| 1       | 0.892857          | Not Viable                               |"
      ]
     },
     "metadata": {},
     "output_type": "display_data"
    },
    {
     "data": {
      "text/html": [
       "<pre>| 2       | 0.223214          | Not Viable                               |</pre>"
      ],
      "text/plain": [
       "| 2       | 0.223214          | Not Viable                               |"
      ]
     },
     "metadata": {},
     "output_type": "display_data"
    },
    {
     "data": {
      "text/html": [
       "<pre>| 3       | 0.0558036         | Not Viable                               |</pre>"
      ],
      "text/plain": [
       "| 3       | 0.0558036         | Not Viable                               |"
      ]
     },
     "metadata": {},
     "output_type": "display_data"
    },
    {
     "data": {
      "text/html": [
       "<pre>| 4       | 0.0139509         | Not Viable                               |</pre>"
      ],
      "text/plain": [
       "| 4       | 0.0139509         | Not Viable                               |"
      ]
     },
     "metadata": {},
     "output_type": "display_data"
    },
    {
     "data": {
      "text/html": [
       "<pre>| 5       | 0.00348772        | Not Viable                               |</pre>"
      ],
      "text/plain": [
       "| 5       | 0.00348772        | Not Viable                               |"
      ]
     },
     "metadata": {},
     "output_type": "display_data"
    },
    {
     "data": {
      "text/html": [
       "<pre>| 6       | 0.000871931       | 1.02939                                  |</pre>"
      ],
      "text/plain": [
       "| 6       | 0.000871931       | 1.02939                                  |"
      ]
     },
     "metadata": {},
     "output_type": "display_data"
    },
    {
     "data": {
      "text/html": [
       "<pre>| 7       | 0.000435965       | 1.04527                                  |</pre>"
      ],
      "text/plain": [
       "| 7       | 0.000435965       | 1.04527                                  |"
      ]
     },
     "metadata": {},
     "output_type": "display_data"
    },
    {
     "data": {
      "text/html": [
       "<pre>| 8       | 0.000217983       | 1.06361                                  |</pre>"
      ],
      "text/plain": [
       "| 8       | 0.000217983       | 1.06361                                  |"
      ]
     },
     "metadata": {},
     "output_type": "display_data"
    },
    {
     "data": {
      "text/html": [
       "<pre>| 9       | 0.000108991       | 1.08664                                  |</pre>"
      ],
      "text/plain": [
       "| 9       | 0.000108991       | 1.08664                                  |"
      ]
     },
     "metadata": {},
     "output_type": "display_data"
    },
    {
     "data": {
      "text/html": [
       "<pre>+---------+-------------------+------------------------------------------+</pre>"
      ],
      "text/plain": [
       "+---------+-------------------+------------------------------------------+"
      ]
     },
     "metadata": {},
     "output_type": "display_data"
    },
    {
     "data": {
      "text/html": [
       "<pre>| Final   | 0.000871931       | 1.02939                                  |</pre>"
      ],
      "text/plain": [
       "| Final   | 0.000871931       | 1.02939                                  |"
      ]
     },
     "metadata": {},
     "output_type": "display_data"
    },
    {
     "data": {
      "text/html": [
       "<pre>+---------+-------------------+------------------------------------------+</pre>"
      ],
      "text/plain": [
       "+---------+-------------------+------------------------------------------+"
      ]
     },
     "metadata": {},
     "output_type": "display_data"
    },
    {
     "data": {
      "text/html": [
       "<pre>Starting Optimization.</pre>"
      ],
      "text/plain": [
       "Starting Optimization."
      ]
     },
     "metadata": {},
     "output_type": "display_data"
    },
    {
     "data": {
      "text/html": [
       "<pre>+---------+--------------+-------------------+-----------------------+-------------+</pre>"
      ],
      "text/plain": [
       "+---------+--------------+-------------------+-----------------------+-------------+"
      ]
     },
     "metadata": {},
     "output_type": "display_data"
    },
    {
     "data": {
      "text/html": [
       "<pre>| Iter.   | Elapsed Time | Approx. Objective | Approx. Training RMSE | Step Size   |</pre>"
      ],
      "text/plain": [
       "| Iter.   | Elapsed Time | Approx. Objective | Approx. Training RMSE | Step Size   |"
      ]
     },
     "metadata": {},
     "output_type": "display_data"
    },
    {
     "data": {
      "text/html": [
       "<pre>+---------+--------------+-------------------+-----------------------+-------------+</pre>"
      ],
      "text/plain": [
       "+---------+--------------+-------------------+-----------------------+-------------+"
      ]
     },
     "metadata": {},
     "output_type": "display_data"
    },
    {
     "data": {
      "text/html": [
       "<pre>| Initial | 130us        | 1.20946           | 1.09976               |             |</pre>"
      ],
      "text/plain": [
       "| Initial | 130us        | 1.20946           | 1.09976               |             |"
      ]
     },
     "metadata": {},
     "output_type": "display_data"
    },
    {
     "data": {
      "text/html": [
       "<pre>+---------+--------------+-------------------+-----------------------+-------------+</pre>"
      ],
      "text/plain": [
       "+---------+--------------+-------------------+-----------------------+-------------+"
      ]
     },
     "metadata": {},
     "output_type": "display_data"
    },
    {
     "data": {
      "text/html": [
       "<pre>| 1       | 4.54s        | 1.86413           | 1.36533               | 0.000871931 |</pre>"
      ],
      "text/plain": [
       "| 1       | 4.54s        | 1.86413           | 1.36533               | 0.000871931 |"
      ]
     },
     "metadata": {},
     "output_type": "display_data"
    },
    {
     "data": {
      "text/html": [
       "<pre>| 2       | 10.36s       | 1.00254           | 1.00127               | 0.000871931 |</pre>"
      ],
      "text/plain": [
       "| 2       | 10.36s       | 1.00254           | 1.00127               | 0.000871931 |"
      ]
     },
     "metadata": {},
     "output_type": "display_data"
    },
    {
     "data": {
      "text/html": [
       "<pre>| 3       | 16.60s       | 0.993786          | 0.996888              | 0.000871931 |</pre>"
      ],
      "text/plain": [
       "| 3       | 16.60s       | 0.993786          | 0.996888              | 0.000871931 |"
      ]
     },
     "metadata": {},
     "output_type": "display_data"
    },
    {
     "data": {
      "text/html": [
       "<pre>| 4       | 21.98s       | 0.98826           | 0.994113              | 0.000871931 |</pre>"
      ],
      "text/plain": [
       "| 4       | 21.98s       | 0.98826           | 0.994113              | 0.000871931 |"
      ]
     },
     "metadata": {},
     "output_type": "display_data"
    },
    {
     "data": {
      "text/html": [
       "<pre>| 5       | 27.48s       | 0.984381          | 0.99216               | 0.000871931 |</pre>"
      ],
      "text/plain": [
       "| 5       | 27.48s       | 0.984381          | 0.99216               | 0.000871931 |"
      ]
     },
     "metadata": {},
     "output_type": "display_data"
    },
    {
     "data": {
      "text/html": [
       "<pre>| 6       | 34.83s       | 0.981113          | 0.990511              | 0.000871931 |</pre>"
      ],
      "text/plain": [
       "| 6       | 34.83s       | 0.981113          | 0.990511              | 0.000871931 |"
      ]
     },
     "metadata": {},
     "output_type": "display_data"
    },
    {
     "data": {
      "text/html": [
       "<pre>| 7       | 40.97s       | 0.978692          | 0.989289              | 0.000871931 |</pre>"
      ],
      "text/plain": [
       "| 7       | 40.97s       | 0.978692          | 0.989289              | 0.000871931 |"
      ]
     },
     "metadata": {},
     "output_type": "display_data"
    },
    {
     "data": {
      "text/html": [
       "<pre>| 8       | 47.40s       | 0.976502          | 0.988181              | 0.000871931 |</pre>"
      ],
      "text/plain": [
       "| 8       | 47.40s       | 0.976502          | 0.988181              | 0.000871931 |"
      ]
     },
     "metadata": {},
     "output_type": "display_data"
    },
    {
     "data": {
      "text/html": [
       "<pre>| 9       | 52.25s       | 0.974617          | 0.987227              | 0.000871931 |</pre>"
      ],
      "text/plain": [
       "| 9       | 52.25s       | 0.974617          | 0.987227              | 0.000871931 |"
      ]
     },
     "metadata": {},
     "output_type": "display_data"
    },
    {
     "data": {
      "text/html": [
       "<pre>| 10      | 56.41s       | 0.972786          | 0.986299              | 0.000871931 |</pre>"
      ],
      "text/plain": [
       "| 10      | 56.41s       | 0.972786          | 0.986299              | 0.000871931 |"
      ]
     },
     "metadata": {},
     "output_type": "display_data"
    },
    {
     "data": {
      "text/html": [
       "<pre>| 11      | 1m 1s        | 0.97106           | 0.985424              | 0.000871931 |</pre>"
      ],
      "text/plain": [
       "| 11      | 1m 1s        | 0.97106           | 0.985424              | 0.000871931 |"
      ]
     },
     "metadata": {},
     "output_type": "display_data"
    },
    {
     "data": {
      "text/html": [
       "<pre>| 12      | 1m 6s        | 0.969749          | 0.984758              | 0.000871931 |</pre>"
      ],
      "text/plain": [
       "| 12      | 1m 6s        | 0.969749          | 0.984758              | 0.000871931 |"
      ]
     },
     "metadata": {},
     "output_type": "display_data"
    },
    {
     "data": {
      "text/html": [
       "<pre>| 13      | 1m 10s       | 0.9685            | 0.984124              | 0.000871931 |</pre>"
      ],
      "text/plain": [
       "| 13      | 1m 10s       | 0.9685            | 0.984124              | 0.000871931 |"
      ]
     },
     "metadata": {},
     "output_type": "display_data"
    },
    {
     "data": {
      "text/html": [
       "<pre>| 14      | 1m 14s       | 0.96735           | 0.983539              | 0.000871931 |</pre>"
      ],
      "text/plain": [
       "| 14      | 1m 14s       | 0.96735           | 0.983539              | 0.000871931 |"
      ]
     },
     "metadata": {},
     "output_type": "display_data"
    },
    {
     "data": {
      "text/html": [
       "<pre>| 15      | 1m 19s       | 0.966354          | 0.983033              | 0.000871931 |</pre>"
      ],
      "text/plain": [
       "| 15      | 1m 19s       | 0.966354          | 0.983033              | 0.000871931 |"
      ]
     },
     "metadata": {},
     "output_type": "display_data"
    },
    {
     "data": {
      "text/html": [
       "<pre>| 16      | 1m 22s       | 0.965034          | 0.982361              | 0.000871931 |</pre>"
      ],
      "text/plain": [
       "| 16      | 1m 22s       | 0.965034          | 0.982361              | 0.000871931 |"
      ]
     },
     "metadata": {},
     "output_type": "display_data"
    },
    {
     "data": {
      "text/html": [
       "<pre>| 17      | 1m 26s       | 0.964117          | 0.981895              | 0.000871931 |</pre>"
      ],
      "text/plain": [
       "| 17      | 1m 26s       | 0.964117          | 0.981895              | 0.000871931 |"
      ]
     },
     "metadata": {},
     "output_type": "display_data"
    },
    {
     "data": {
      "text/html": [
       "<pre>| 18      | 1m 30s       | 0.963028          | 0.98134               | 0.000871931 |</pre>"
      ],
      "text/plain": [
       "| 18      | 1m 30s       | 0.963028          | 0.98134               | 0.000871931 |"
      ]
     },
     "metadata": {},
     "output_type": "display_data"
    },
    {
     "data": {
      "text/html": [
       "<pre>| 19      | 1m 33s       | 0.962472          | 0.981057              | 0.000871931 |</pre>"
      ],
      "text/plain": [
       "| 19      | 1m 33s       | 0.962472          | 0.981057              | 0.000871931 |"
      ]
     },
     "metadata": {},
     "output_type": "display_data"
    },
    {
     "data": {
      "text/html": [
       "<pre>| 20      | 1m 37s       | 0.9617            | 0.980663              | 0.000871931 |</pre>"
      ],
      "text/plain": [
       "| 20      | 1m 37s       | 0.9617            | 0.980663              | 0.000871931 |"
      ]
     },
     "metadata": {},
     "output_type": "display_data"
    },
    {
     "data": {
      "text/html": [
       "<pre>| 21      | 1m 40s       | 0.960967          | 0.980289              | 0.000871931 |</pre>"
      ],
      "text/plain": [
       "| 21      | 1m 40s       | 0.960967          | 0.980289              | 0.000871931 |"
      ]
     },
     "metadata": {},
     "output_type": "display_data"
    },
    {
     "data": {
      "text/html": [
       "<pre>| 22      | 1m 44s       | 0.960311          | 0.979955              | 0.000871931 |</pre>"
      ],
      "text/plain": [
       "| 22      | 1m 44s       | 0.960311          | 0.979955              | 0.000871931 |"
      ]
     },
     "metadata": {},
     "output_type": "display_data"
    },
    {
     "data": {
      "text/html": [
       "<pre>| 23      | 1m 48s       | 0.959595          | 0.979589              | 0.000871931 |</pre>"
      ],
      "text/plain": [
       "| 23      | 1m 48s       | 0.959595          | 0.979589              | 0.000871931 |"
      ]
     },
     "metadata": {},
     "output_type": "display_data"
    },
    {
     "data": {
      "text/html": [
       "<pre>| 24      | 1m 53s       | 0.958831          | 0.979199              | 0.000871931 |</pre>"
      ],
      "text/plain": [
       "| 24      | 1m 53s       | 0.958831          | 0.979199              | 0.000871931 |"
      ]
     },
     "metadata": {},
     "output_type": "display_data"
    },
    {
     "data": {
      "text/html": [
       "<pre>| 25      | 1m 57s       | 0.958241          | 0.978898              | 0.000871931 |</pre>"
      ],
      "text/plain": [
       "| 25      | 1m 57s       | 0.958241          | 0.978898              | 0.000871931 |"
      ]
     },
     "metadata": {},
     "output_type": "display_data"
    },
    {
     "data": {
      "text/html": [
       "<pre>| 26      | 2m 1s        | 0.957612          | 0.978577              | 0.000871931 |</pre>"
      ],
      "text/plain": [
       "| 26      | 2m 1s        | 0.957612          | 0.978577              | 0.000871931 |"
      ]
     },
     "metadata": {},
     "output_type": "display_data"
    },
    {
     "data": {
      "text/html": [
       "<pre>| 27      | 2m 4s        | 0.956893          | 0.978209              | 0.000871931 |</pre>"
      ],
      "text/plain": [
       "| 27      | 2m 4s        | 0.956893          | 0.978209              | 0.000871931 |"
      ]
     },
     "metadata": {},
     "output_type": "display_data"
    },
    {
     "data": {
      "text/html": [
       "<pre>| 28      | 2m 8s        | 0.956309          | 0.977911              | 0.000871931 |</pre>"
      ],
      "text/plain": [
       "| 28      | 2m 8s        | 0.956309          | 0.977911              | 0.000871931 |"
      ]
     },
     "metadata": {},
     "output_type": "display_data"
    },
    {
     "data": {
      "text/html": [
       "<pre>| 29      | 2m 12s       | 0.956039          | 0.977773              | 0.000871931 |</pre>"
      ],
      "text/plain": [
       "| 29      | 2m 12s       | 0.956039          | 0.977773              | 0.000871931 |"
      ]
     },
     "metadata": {},
     "output_type": "display_data"
    },
    {
     "data": {
      "text/html": [
       "<pre>| 30      | 2m 16s       | 0.955437          | 0.977464              | 0.000871931 |</pre>"
      ],
      "text/plain": [
       "| 30      | 2m 16s       | 0.955437          | 0.977464              | 0.000871931 |"
      ]
     },
     "metadata": {},
     "output_type": "display_data"
    },
    {
     "data": {
      "text/html": [
       "<pre>| 31      | 2m 20s       | 0.954814          | 0.977146              | 0.000871931 |</pre>"
      ],
      "text/plain": [
       "| 31      | 2m 20s       | 0.954814          | 0.977146              | 0.000871931 |"
      ]
     },
     "metadata": {},
     "output_type": "display_data"
    },
    {
     "data": {
      "text/html": [
       "<pre>| 32      | 2m 25s       | 0.954149          | 0.976806              | 0.000871931 |</pre>"
      ],
      "text/plain": [
       "| 32      | 2m 25s       | 0.954149          | 0.976806              | 0.000871931 |"
      ]
     },
     "metadata": {},
     "output_type": "display_data"
    },
    {
     "data": {
      "text/html": [
       "<pre>| 33      | 2m 30s       | 0.953817          | 0.976636              | 0.000871931 |</pre>"
      ],
      "text/plain": [
       "| 33      | 2m 30s       | 0.953817          | 0.976636              | 0.000871931 |"
      ]
     },
     "metadata": {},
     "output_type": "display_data"
    },
    {
     "data": {
      "text/html": [
       "<pre>| 34      | 2m 36s       | 0.953461          | 0.976453              | 0.000871931 |</pre>"
      ],
      "text/plain": [
       "| 34      | 2m 36s       | 0.953461          | 0.976453              | 0.000871931 |"
      ]
     },
     "metadata": {},
     "output_type": "display_data"
    },
    {
     "data": {
      "text/html": [
       "<pre>| 35      | 2m 41s       | 0.953118          | 0.976278              | 0.000871931 |</pre>"
      ],
      "text/plain": [
       "| 35      | 2m 41s       | 0.953118          | 0.976278              | 0.000871931 |"
      ]
     },
     "metadata": {},
     "output_type": "display_data"
    },
    {
     "data": {
      "text/html": [
       "<pre>| 36      | 2m 47s       | 0.952514          | 0.975968              | 0.000871931 |</pre>"
      ],
      "text/plain": [
       "| 36      | 2m 47s       | 0.952514          | 0.975968              | 0.000871931 |"
      ]
     },
     "metadata": {},
     "output_type": "display_data"
    },
    {
     "data": {
      "text/html": [
       "<pre>| 37      | 2m 52s       | 0.952021          | 0.975716              | 0.000871931 |</pre>"
      ],
      "text/plain": [
       "| 37      | 2m 52s       | 0.952021          | 0.975716              | 0.000871931 |"
      ]
     },
     "metadata": {},
     "output_type": "display_data"
    },
    {
     "data": {
      "text/html": [
       "<pre>| 38      | 2m 58s       | 0.951756          | 0.97558               | 0.000871931 |</pre>"
      ],
      "text/plain": [
       "| 38      | 2m 58s       | 0.951756          | 0.97558               | 0.000871931 |"
      ]
     },
     "metadata": {},
     "output_type": "display_data"
    },
    {
     "data": {
      "text/html": [
       "<pre>| 39      | 3m 4s        | 0.95107           | 0.975228              | 0.000871931 |</pre>"
      ],
      "text/plain": [
       "| 39      | 3m 4s        | 0.95107           | 0.975228              | 0.000871931 |"
      ]
     },
     "metadata": {},
     "output_type": "display_data"
    },
    {
     "data": {
      "text/html": [
       "<pre>| 40      | 3m 10s       | 0.950754          | 0.975066              | 0.000871931 |</pre>"
      ],
      "text/plain": [
       "| 40      | 3m 10s       | 0.950754          | 0.975066              | 0.000871931 |"
      ]
     },
     "metadata": {},
     "output_type": "display_data"
    },
    {
     "data": {
      "text/html": [
       "<pre>| 41      | 3m 15s       | 0.950339          | 0.974853              | 0.000871931 |</pre>"
      ],
      "text/plain": [
       "| 41      | 3m 15s       | 0.950339          | 0.974853              | 0.000871931 |"
      ]
     },
     "metadata": {},
     "output_type": "display_data"
    },
    {
     "data": {
      "text/html": [
       "<pre>| 42      | 3m 19s       | 0.949818          | 0.974586              | 0.000871931 |</pre>"
      ],
      "text/plain": [
       "| 42      | 3m 19s       | 0.949818          | 0.974586              | 0.000871931 |"
      ]
     },
     "metadata": {},
     "output_type": "display_data"
    },
    {
     "data": {
      "text/html": [
       "<pre>| 43      | 3m 23s       | 0.949231          | 0.974285              | 0.000871931 |</pre>"
      ],
      "text/plain": [
       "| 43      | 3m 23s       | 0.949231          | 0.974285              | 0.000871931 |"
      ]
     },
     "metadata": {},
     "output_type": "display_data"
    },
    {
     "data": {
      "text/html": [
       "<pre>| 44      | 3m 27s       | 0.949051          | 0.974192              | 0.000871931 |</pre>"
      ],
      "text/plain": [
       "| 44      | 3m 27s       | 0.949051          | 0.974192              | 0.000871931 |"
      ]
     },
     "metadata": {},
     "output_type": "display_data"
    },
    {
     "data": {
      "text/html": [
       "<pre>| 45      | 3m 32s       | 0.948895          | 0.974112              | 0.000871931 |</pre>"
      ],
      "text/plain": [
       "| 45      | 3m 32s       | 0.948895          | 0.974112              | 0.000871931 |"
      ]
     },
     "metadata": {},
     "output_type": "display_data"
    },
    {
     "data": {
      "text/html": [
       "<pre>| 46      | 3m 36s       | 0.948232          | 0.973772              | 0.000871931 |</pre>"
      ],
      "text/plain": [
       "| 46      | 3m 36s       | 0.948232          | 0.973772              | 0.000871931 |"
      ]
     },
     "metadata": {},
     "output_type": "display_data"
    },
    {
     "data": {
      "text/html": [
       "<pre>| 47      | 3m 40s       | 0.948068          | 0.973688              | 0.000871931 |</pre>"
      ],
      "text/plain": [
       "| 47      | 3m 40s       | 0.948068          | 0.973688              | 0.000871931 |"
      ]
     },
     "metadata": {},
     "output_type": "display_data"
    },
    {
     "data": {
      "text/html": [
       "<pre>| 48      | 3m 46s       | 0.947607          | 0.973451              | 0.000871931 |</pre>"
      ],
      "text/plain": [
       "| 48      | 3m 46s       | 0.947607          | 0.973451              | 0.000871931 |"
      ]
     },
     "metadata": {},
     "output_type": "display_data"
    },
    {
     "data": {
      "text/html": [
       "<pre>| 49      | 3m 53s       | 0.947274          | 0.97328               | 0.000871931 |</pre>"
      ],
      "text/plain": [
       "| 49      | 3m 53s       | 0.947274          | 0.97328               | 0.000871931 |"
      ]
     },
     "metadata": {},
     "output_type": "display_data"
    },
    {
     "data": {
      "text/html": [
       "<pre>| 50      | 3m 57s       | 0.946791          | 0.973032              | 0.000871931 |</pre>"
      ],
      "text/plain": [
       "| 50      | 3m 57s       | 0.946791          | 0.973032              | 0.000871931 |"
      ]
     },
     "metadata": {},
     "output_type": "display_data"
    },
    {
     "data": {
      "text/html": [
       "<pre>+---------+--------------+-------------------+-----------------------+-------------+</pre>"
      ],
      "text/plain": [
       "+---------+--------------+-------------------+-----------------------+-------------+"
      ]
     },
     "metadata": {},
     "output_type": "display_data"
    },
    {
     "data": {
      "text/html": [
       "<pre>Optimization Complete: Maximum number of passes through the data reached.</pre>"
      ],
      "text/plain": [
       "Optimization Complete: Maximum number of passes through the data reached."
      ]
     },
     "metadata": {},
     "output_type": "display_data"
    },
    {
     "data": {
      "text/html": [
       "<pre>Computing final objective value and training RMSE.</pre>"
      ],
      "text/plain": [
       "Computing final objective value and training RMSE."
      ]
     },
     "metadata": {},
     "output_type": "display_data"
    },
    {
     "data": {
      "text/html": [
       "<pre>       Final objective value: 0.946007</pre>"
      ],
      "text/plain": [
       "       Final objective value: 0.946007"
      ]
     },
     "metadata": {},
     "output_type": "display_data"
    },
    {
     "data": {
      "text/html": [
       "<pre>       Final training RMSE: 0.972629</pre>"
      ],
      "text/plain": [
       "       Final training RMSE: 0.972629"
      ]
     },
     "metadata": {},
     "output_type": "display_data"
    }
   ],
   "source": [
    "model = gl.recommender.factorization_recommender.create(movies, 'userID', 'itemID', \n",
    "                                                     'rating', item_data = movies_content)"
   ]
  },
  {
   "cell_type": "markdown",
   "metadata": {},
   "source": [
    "We now read the users test file, in order to get the list of users we are interested into and that we will use for the predictions"
   ]
  },
  {
   "cell_type": "code",
   "execution_count": 7,
   "metadata": {},
   "outputs": [
    {
     "data": {
      "text/html": [
       "<div>\n",
       "<style scoped>\n",
       "    .dataframe tbody tr th:only-of-type {\n",
       "        vertical-align: middle;\n",
       "    }\n",
       "\n",
       "    .dataframe tbody tr th {\n",
       "        vertical-align: top;\n",
       "    }\n",
       "\n",
       "    .dataframe thead th {\n",
       "        text-align: right;\n",
       "    }\n",
       "</style>\n",
       "<table border=\"1\" class=\"dataframe\">\n",
       "  <thead>\n",
       "    <tr style=\"text-align: right;\">\n",
       "      <th></th>\n",
       "      <th>userID</th>\n",
       "      <th>recommended_itemIDs</th>\n",
       "    </tr>\n",
       "  </thead>\n",
       "  <tbody>\n",
       "    <tr>\n",
       "      <th>0</th>\n",
       "      <td>1</td>\n",
       "      <td></td>\n",
       "    </tr>\n",
       "    <tr>\n",
       "      <th>1</th>\n",
       "      <td>3</td>\n",
       "      <td></td>\n",
       "    </tr>\n",
       "    <tr>\n",
       "      <th>2</th>\n",
       "      <td>11</td>\n",
       "      <td></td>\n",
       "    </tr>\n",
       "    <tr>\n",
       "      <th>3</th>\n",
       "      <td>29</td>\n",
       "      <td></td>\n",
       "    </tr>\n",
       "    <tr>\n",
       "      <th>4</th>\n",
       "      <td>31</td>\n",
       "      <td></td>\n",
       "    </tr>\n",
       "  </tbody>\n",
       "</table>\n",
       "</div>"
      ],
      "text/plain": [
       "   userID recommended_itemIDs\n",
       "0       1                    \n",
       "1       3                    \n",
       "2      11                    \n",
       "3      29                    \n",
       "4      31                    "
      ]
     },
     "execution_count": 7,
     "metadata": {},
     "output_type": "execute_result"
    }
   ],
   "source": [
    "users_test = pd.read_csv(\"data/test-PDA2019.csv\")\n",
    "users_test.head()"
   ]
  },
  {
   "cell_type": "markdown",
   "metadata": {},
   "source": [
    "We now extract the column with the user IDs, in order to easily access them"
   ]
  },
  {
   "cell_type": "code",
   "execution_count": 8,
   "metadata": {},
   "outputs": [
    {
     "data": {
      "text/plain": [
       "0     1\n",
       "1     3\n",
       "2    11\n",
       "3    29\n",
       "4    31\n",
       "Name: userID, dtype: int64"
      ]
     },
     "execution_count": 8,
     "metadata": {},
     "output_type": "execute_result"
    }
   ],
   "source": [
    "users = users_test.loc[:,'userID']\n",
    "users.head()"
   ]
  },
  {
   "cell_type": "markdown",
   "metadata": {},
   "source": [
    "We can now predict the rating for the movies that were not seen by the users. By default, Graphlab already returns the top 10 movies, ordered by their rating in decreasing order. We append the resulting formatted string to the pandas data frame, so that we can export the final predictions easily at the end"
   ]
  },
  {
   "cell_type": "code",
   "execution_count": 9,
   "metadata": {},
   "outputs": [],
   "source": [
    "for j in range(0,len(users)):\n",
    "    user = users[j]\n",
    "    user_predictions = model.recommend([user])\n",
    "    rec_string = \" \".join(str(item) for item in user_predictions['itemID'])\n",
    "    users_test.loc[j,'recommended_itemIDs'] = \" \" + rec_string"
   ]
  },
  {
   "cell_type": "markdown",
   "metadata": {},
   "source": [
    "Having all predictions, we can now use pandas to export the complete data frame into a cvs file that can be submitted to the Kaggle platform for the evaluation"
   ]
  },
  {
   "cell_type": "code",
   "execution_count": 11,
   "metadata": {},
   "outputs": [
    {
     "name": "stdout",
     "output_type": "stream",
     "text": [
      "   userID                            recommended_itemIDs\n",
      "0       1   2959 1198 1213 904 922 750 858 260 1178 1089\n",
      "1       3    2959 1198 904 922 750 858 260 912 1178 1148\n",
      "2      11    2959 1198 1213 922 904 750 858 260 1178 912\n",
      "3      29    2959 1198 904 922 750 858 912 1207 260 1178\n",
      "4      31    2959 1198 1213 922 904 750 858 260 912 1178\n"
     ]
    }
   ],
   "source": [
    "users_test.to_csv(path_or_buf = 'generated/graphlab_factorized_recommendations.csv', index = False, header = True, sep = ',')\n",
    "print(users_test.head())"
   ]
  },
  {
   "cell_type": "code",
   "execution_count": null,
   "metadata": {},
   "outputs": [],
   "source": []
  }
 ],
 "metadata": {
  "kernelspec": {
   "display_name": "Python 2",
   "language": "python",
   "name": "python2"
  },
  "language_info": {
   "codemirror_mode": {
    "name": "ipython",
    "version": 2
   },
   "file_extension": ".py",
   "mimetype": "text/x-python",
   "name": "python",
   "nbconvert_exporter": "python",
   "pygments_lexer": "ipython2",
   "version": "2.7.16"
  }
 },
 "nbformat": 4,
 "nbformat_minor": 2
}
