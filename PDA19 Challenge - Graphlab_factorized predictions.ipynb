{
 "cells": [
  {
   "cell_type": "markdown",
   "metadata": {},
   "source": [
    "Student: Davide Sbetti - 14032"
   ]
  },
  {
   "cell_type": "markdown",
   "metadata": {},
   "source": [
    "# Graphlab - Factorized and side information"
   ]
  },
  {
   "cell_type": "markdown",
   "metadata": {},
   "source": [
    "First, let's import the graphlab library and pandas, used to export the final predictions"
   ]
  },
  {
   "cell_type": "code",
   "execution_count": 2,
   "metadata": {},
   "outputs": [],
   "source": [
    "import graphlab as gl\n",
    "import pandas as pd"
   ]
  },
  {
   "cell_type": "markdown",
   "metadata": {},
   "source": [
    "We now read the movie dataset, using graphlab provided functions to avoid later conversions between different type of objects"
   ]
  },
  {
   "cell_type": "code",
   "execution_count": 3,
   "metadata": {},
   "outputs": [
    {
     "name": "stdout",
     "output_type": "stream",
     "text": [
      "This non-commercial license of GraphLab Create for academic use is assigned to dsbetti@unibz.it and will expire on November 20, 2020.\n"
     ]
    },
    {
     "name": "stderr",
     "output_type": "stream",
     "text": [
      "[INFO] graphlab.cython.cy_server: GraphLab Create v2.1 started. Logging: /tmp/graphlab_server_1575382308.log\n"
     ]
    },
    {
     "data": {
      "text/html": [
       "<pre>Finished parsing file /home/davide/unibz/Master/Programming for Data Analytics/Jupyter/Project/data/train-PDA2019.csv</pre>"
      ],
      "text/plain": [
       "Finished parsing file /home/davide/unibz/Master/Programming for Data Analytics/Jupyter/Project/data/train-PDA2019.csv"
      ]
     },
     "metadata": {},
     "output_type": "display_data"
    },
    {
     "data": {
      "text/html": [
       "<pre>Parsing completed. Parsed 100 lines in 0.322771 secs.</pre>"
      ],
      "text/plain": [
       "Parsing completed. Parsed 100 lines in 0.322771 secs."
      ]
     },
     "metadata": {},
     "output_type": "display_data"
    },
    {
     "name": "stdout",
     "output_type": "stream",
     "text": [
      "------------------------------------------------------\n",
      "Inferred types from first 100 line(s) of file as \n",
      "column_type_hints=[int,int,int,int]\n",
      "If parsing fails due to incorrect types, you can correct\n",
      "the inferred type list above and pass it to read_csv in\n",
      "the column_type_hints argument\n",
      "------------------------------------------------------\n"
     ]
    },
    {
     "data": {
      "text/html": [
       "<pre>Finished parsing file /home/davide/unibz/Master/Programming for Data Analytics/Jupyter/Project/data/train-PDA2019.csv</pre>"
      ],
      "text/plain": [
       "Finished parsing file /home/davide/unibz/Master/Programming for Data Analytics/Jupyter/Project/data/train-PDA2019.csv"
      ]
     },
     "metadata": {},
     "output_type": "display_data"
    },
    {
     "data": {
      "text/html": [
       "<pre>Parsing completed. Parsed 470711 lines in 0.33946 secs.</pre>"
      ],
      "text/plain": [
       "Parsing completed. Parsed 470711 lines in 0.33946 secs."
      ]
     },
     "metadata": {},
     "output_type": "display_data"
    },
    {
     "name": "stdout",
     "output_type": "stream",
     "text": [
      "+--------+--------+--------+-----------+\n",
      "| userID | itemID | rating | timeStamp |\n",
      "+--------+--------+--------+-----------+\n",
      "|   5    |  648   |   5    | 978297876 |\n",
      "|   5    |  1394  |   5    | 978298237 |\n",
      "|   5    |  3534  |   5    | 978297149 |\n",
      "|   5    |  104   |   4    | 978298558 |\n",
      "|   5    |  2735  |   5    | 978297919 |\n",
      "|   5    |  3868  |   3    | 978298561 |\n",
      "|   5    |  1079  |   5    | 978298384 |\n",
      "|   5    |  2997  |   3    | 978298214 |\n",
      "|   5    |  1615  |   5    | 978297755 |\n",
      "|   5    |  1291  |   4    | 978297692 |\n",
      "+--------+--------+--------+-----------+\n",
      "[10 rows x 4 columns]\n",
      "\n"
     ]
    }
   ],
   "source": [
    "movies = gl.SFrame.read_csv('data/train-PDA2019.csv')\n",
    "print(movies.head())"
   ]
  },
  {
   "cell_type": "markdown",
   "metadata": {},
   "source": [
    "We now read also the side information available in the content file, used to add more information to the training data that will be used to train the model"
   ]
  },
  {
   "cell_type": "code",
   "execution_count": 4,
   "metadata": {},
   "outputs": [
    {
     "data": {
      "text/html": [
       "<pre>Finished parsing file /home/davide/unibz/Master/Programming for Data Analytics/Jupyter/Project/data/content-PDA2019.csv</pre>"
      ],
      "text/plain": [
       "Finished parsing file /home/davide/unibz/Master/Programming for Data Analytics/Jupyter/Project/data/content-PDA2019.csv"
      ]
     },
     "metadata": {},
     "output_type": "display_data"
    },
    {
     "data": {
      "text/html": [
       "<pre>Parsing completed. Parsed 100 lines in 0.10816 secs.</pre>"
      ],
      "text/plain": [
       "Parsing completed. Parsed 100 lines in 0.10816 secs."
      ]
     },
     "metadata": {},
     "output_type": "display_data"
    },
    {
     "name": "stdout",
     "output_type": "stream",
     "text": [
      "------------------------------------------------------\n",
      "Inferred types from first 100 line(s) of file as \n",
      "column_type_hints=[int,float,float,float,float,float,float,float,str,str,int,list]\n",
      "If parsing fails due to incorrect types, you can correct\n",
      "the inferred type list above and pass it to read_csv in\n",
      "the column_type_hints argument\n",
      "------------------------------------------------------\n"
     ]
    },
    {
     "data": {
      "text/html": [
       "<pre>Unable to parse line \"3439,0.6972976540000001,0.5822279220000001,0.586085808,0.519217905,0.585836978,0.525068944,0.601454271,Teenage Mutant Ninja Turtles II: The Secret of the Ooze (1991),Action|Children|Fantasy,1991,\"['adapted from:comic', 'animation remade as live action', 'B...\"</pre>"
      ],
      "text/plain": [
       "Unable to parse line \"3439,0.6972976540000001,0.5822279220000001,0.586085808,0.519217905,0.585836978,0.525068944,0.601454271,Teenage Mutant Ninja Turtles II: The Secret of the Ooze (1991),Action|Children|Fantasy,1991,\"['adapted from:comic', 'animation remade as live action', 'B...\""
      ]
     },
     "metadata": {},
     "output_type": "display_data"
    },
    {
     "data": {
      "text/html": [
       "<pre>1 lines failed to parse correctly</pre>"
      ],
      "text/plain": [
       "1 lines failed to parse correctly"
      ]
     },
     "metadata": {},
     "output_type": "display_data"
    },
    {
     "data": {
      "text/html": [
       "<pre>Finished parsing file /home/davide/unibz/Master/Programming for Data Analytics/Jupyter/Project/data/content-PDA2019.csv</pre>"
      ],
      "text/plain": [
       "Finished parsing file /home/davide/unibz/Master/Programming for Data Analytics/Jupyter/Project/data/content-PDA2019.csv"
      ]
     },
     "metadata": {},
     "output_type": "display_data"
    },
    {
     "data": {
      "text/html": [
       "<pre>Parsing completed. Parsed 1831 lines in 0.110111 secs.</pre>"
      ],
      "text/plain": [
       "Parsing completed. Parsed 1831 lines in 0.110111 secs."
      ]
     },
     "metadata": {},
     "output_type": "display_data"
    }
   ],
   "source": [
    "movies_content = gl.SFrame.read_csv('data/content-PDA2019.csv')"
   ]
  },
  {
   "cell_type": "markdown",
   "metadata": {},
   "source": [
    "We now read the users test file, in order to get the list of users we are interested into and that we will use for the predictions"
   ]
  },
  {
   "cell_type": "code",
   "execution_count": 7,
   "metadata": {},
   "outputs": [
    {
     "data": {
      "text/html": [
       "<div>\n",
       "<style scoped>\n",
       "    .dataframe tbody tr th:only-of-type {\n",
       "        vertical-align: middle;\n",
       "    }\n",
       "\n",
       "    .dataframe tbody tr th {\n",
       "        vertical-align: top;\n",
       "    }\n",
       "\n",
       "    .dataframe thead th {\n",
       "        text-align: right;\n",
       "    }\n",
       "</style>\n",
       "<table border=\"1\" class=\"dataframe\">\n",
       "  <thead>\n",
       "    <tr style=\"text-align: right;\">\n",
       "      <th></th>\n",
       "      <th>userID</th>\n",
       "      <th>recommended_itemIDs</th>\n",
       "    </tr>\n",
       "  </thead>\n",
       "  <tbody>\n",
       "    <tr>\n",
       "      <th>0</th>\n",
       "      <td>1</td>\n",
       "      <td></td>\n",
       "    </tr>\n",
       "    <tr>\n",
       "      <th>1</th>\n",
       "      <td>3</td>\n",
       "      <td></td>\n",
       "    </tr>\n",
       "    <tr>\n",
       "      <th>2</th>\n",
       "      <td>11</td>\n",
       "      <td></td>\n",
       "    </tr>\n",
       "    <tr>\n",
       "      <th>3</th>\n",
       "      <td>29</td>\n",
       "      <td></td>\n",
       "    </tr>\n",
       "    <tr>\n",
       "      <th>4</th>\n",
       "      <td>31</td>\n",
       "      <td></td>\n",
       "    </tr>\n",
       "  </tbody>\n",
       "</table>\n",
       "</div>"
      ],
      "text/plain": [
       "   userID recommended_itemIDs\n",
       "0       1                    \n",
       "1       3                    \n",
       "2      11                    \n",
       "3      29                    \n",
       "4      31                    "
      ]
     },
     "execution_count": 7,
     "metadata": {},
     "output_type": "execute_result"
    }
   ],
   "source": [
    "users_test = pd.read_csv(\"data/test-PDA2019.csv\")\n",
    "users_test.head()"
   ]
  },
  {
   "cell_type": "markdown",
   "metadata": {},
   "source": [
    "We now extract the column with the user IDs, in order to easily access them"
   ]
  },
  {
   "cell_type": "code",
   "execution_count": 8,
   "metadata": {},
   "outputs": [
    {
     "data": {
      "text/plain": [
       "0     1\n",
       "1     3\n",
       "2    11\n",
       "3    29\n",
       "4    31\n",
       "Name: userID, dtype: int64"
      ]
     },
     "execution_count": 8,
     "metadata": {},
     "output_type": "execute_result"
    }
   ],
   "source": [
    "users = users_test.loc[:,'userID']\n",
    "users.head()"
   ]
  },
  {
   "cell_type": "markdown",
   "metadata": {},
   "source": [
    "We now build the recommender system using the factorization recommender, passing also data related to the single movies, trying so to increase the precision of the predictions"
   ]
  },
  {
   "cell_type": "code",
   "execution_count": 1,
   "metadata": {},
   "outputs": [
    {
     "ename": "NameError",
     "evalue": "name 'gl' is not defined",
     "output_type": "error",
     "traceback": [
      "\u001b[0;31m---------------------------------------------------------------------------\u001b[0m",
      "\u001b[0;31mNameError\u001b[0m                                 Traceback (most recent call last)",
      "\u001b[0;32m<ipython-input-1-e110f439a87d>\u001b[0m in \u001b[0;36m<module>\u001b[0;34m()\u001b[0m\n\u001b[0;32m----> 1\u001b[0;31m model = gl.recommender.factorization_recommender.create(movies, 'userID', 'itemID', \n\u001b[0m\u001b[1;32m      2\u001b[0m                                                      'rating', item_data = movies_content)\n",
      "\u001b[0;31mNameError\u001b[0m: name 'gl' is not defined"
     ]
    }
   ],
   "source": [
    "model = gl.recommender.factorization_recommender.create(movies, 'userID', 'itemID', \n",
    "                                                     'rating', item_data = movies_content)"
   ]
  },
  {
   "cell_type": "markdown",
   "metadata": {},
   "source": [
    "We can now predict the rating for the movies that were not seen by the users. By default, Graphlab already returns the top 10 movies, ordered by their rating in decreasing order. We append the resulting formatted string to the pandas data frame, so that we can export the final predictions easily at the end"
   ]
  },
  {
   "cell_type": "code",
   "execution_count": 9,
   "metadata": {},
   "outputs": [],
   "source": [
    "for j in range(0,len(users)):\n",
    "    user = users[j]\n",
    "    user_predictions = model.recommend([user])\n",
    "    rec_string = \" \".join(str(item) for item in user_predictions['itemID'])\n",
    "    users_test.loc[j,'recommended_itemIDs'] = \" \" + rec_string"
   ]
  },
  {
   "cell_type": "markdown",
   "metadata": {},
   "source": [
    "Having all predictions, we can now use pandas to export the complete data frame into a cvs file that can be submitted to the Kaggle platform for the evaluation"
   ]
  },
  {
   "cell_type": "code",
   "execution_count": 11,
   "metadata": {},
   "outputs": [
    {
     "name": "stdout",
     "output_type": "stream",
     "text": [
      "   userID                            recommended_itemIDs\n",
      "0       1   2959 1198 1213 904 922 750 858 260 1178 1089\n",
      "1       3    2959 1198 904 922 750 858 260 912 1178 1148\n",
      "2      11    2959 1198 1213 922 904 750 858 260 1178 912\n",
      "3      29    2959 1198 904 922 750 858 912 1207 260 1178\n",
      "4      31    2959 1198 1213 922 904 750 858 260 912 1178\n"
     ]
    }
   ],
   "source": [
    "users_test.to_csv(path_or_buf = 'generated/graphlab_factorized_recommendations.csv', index = False, header = True, sep = ',')\n",
    "print(users_test.head())"
   ]
  },
  {
   "cell_type": "code",
   "execution_count": null,
   "metadata": {},
   "outputs": [],
   "source": []
  }
 ],
 "metadata": {
  "kernelspec": {
   "display_name": "Python 2",
   "language": "python",
   "name": "python2"
  },
  "language_info": {
   "codemirror_mode": {
    "name": "ipython",
    "version": 2
   },
   "file_extension": ".py",
   "mimetype": "text/x-python",
   "name": "python",
   "nbconvert_exporter": "python",
   "pygments_lexer": "ipython2",
   "version": "2.7.16"
  }
 },
 "nbformat": 4,
 "nbformat_minor": 2
}
